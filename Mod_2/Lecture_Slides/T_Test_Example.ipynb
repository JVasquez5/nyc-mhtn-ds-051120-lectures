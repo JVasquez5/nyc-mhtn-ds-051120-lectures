{
 "cells": [
  {
   "cell_type": "markdown",
   "metadata": {},
   "source": [
    "Is there a significant difference in the average price of drip coffee at independent coffee shops in Manhattan versus San Francisco? Let  𝛼=.05 .\n",
    "Data:"
   ]
  },
  {
   "cell_type": "code",
   "execution_count": 1,
   "metadata": {},
   "outputs": [],
   "source": [
    "manhattan_coffee_prices = [1.5, 1.5, 1.79, 1.79, 1.79, 1.79, 1.85, 1.85, 1.85, 1.85, 1.85, 1.99,\n",
    "                           1.99, 1.99, 1.99, 1.99, 1.99, 1.99, 2, 2, 2, 2.19, 2.19, 2.29, 2.29,\n",
    "                           2.29, 2.29, 2.29, 2.5, 2.5]\n",
    "sf_coffee_prices = [1.99, 1.99, 2.29, 2.29, 2.29, 2.29, 2.49, 2.49, 2.49, 2.49, 2.49, 2.49, 2.49, \n",
    "                    2.49, 2.49, 2.79, 2.79, 2.79, 2.79, 2.79, 2.79, 2.79, 2.95, 2.95, 2.95, 2.95, \n",
    "                    2.95, 2.95, 2.99, 2.99, 2.99, 2.99, 3.49, 3.49, 3.49]"
   ]
  },
  {
   "cell_type": "markdown",
   "metadata": {},
   "source": [
    "Null and alternate hypotheses:\n",
    "Null:  𝜇𝑠𝑓=𝜇𝑚ℎ𝑡𝑛 \n",
    "Alt:  𝜇𝑠𝑓≠𝜇𝑚ℎ𝑡𝑛 \n",
    "Because we're looking for evidence of equality, this is a two-tailed test. It is a t-test because we are trying to infer the true mean from sample data, with no information on the true mean/standard deviation.\n",
    "Are their variances equal?"
   ]
  },
  {
   "cell_type": "code",
   "execution_count": 2,
   "metadata": {},
   "outputs": [
    {
     "name": "stdout",
     "output_type": "stream",
     "text": [
      "sf variance: 0.13833815126050422\n",
      "manhattan variance: 0.06142540229885057\n"
     ]
    }
   ],
   "source": [
    "from statistics import variance\n",
    "print(\"sf variance:\", variance(sf_coffee_prices))\n",
    "print(\"manhattan variance:\", variance(manhattan_coffee_prices))"
   ]
  },
  {
   "cell_type": "markdown",
   "metadata": {},
   "source": [
    "So these variances are not equal. We will use a Welch's t-test (ie, we will set equal_var=False in our t-test.)"
   ]
  },
  {
   "cell_type": "code",
   "execution_count": 3,
   "metadata": {},
   "outputs": [
    {
     "name": "stdout",
     "output_type": "stream",
     "text": [
      "We have 30 Manhattan samples and 35 San Francisco samples.\n"
     ]
    }
   ],
   "source": [
    "print(f'We have {len(manhattan_coffee_prices)} Manhattan samples and {len(sf_coffee_prices)} San Francisco samples.')"
   ]
  },
  {
   "cell_type": "markdown",
   "metadata": {},
   "source": [
    "Because we have unequal sample sizes, we'll have to set nan_policty='omit', so that the t-test is properly handling the discrepancy."
   ]
  },
  {
   "cell_type": "code",
   "execution_count": 4,
   "metadata": {},
   "outputs": [
    {
     "data": {
      "text/plain": [
       "Ttest_indResult(statistic=9.2256676192423, pvalue=4.387713543565749e-13)"
      ]
     },
     "execution_count": 4,
     "metadata": {},
     "output_type": "execute_result"
    }
   ],
   "source": [
    "from scipy.stats import ttest_ind\n",
    "\n",
    "ttest_ind(sf_coffee_prices, manhattan_coffee_prices, equal_var=False, nan_policy='omit')"
   ]
  },
  {
   "cell_type": "markdown",
   "metadata": {},
   "source": [
    "Now to interpret our t-test: Our p-value is much smaller than our signifiance level of .05, thus, we have evidence to reject the null hypothesis. It seems too unlikely that our samples were taken from populations with the same sample mean. So, we conclude that our evidence suggests that the price of coffee in Manhattan is different from the price of coffee in San Fransisco."
   ]
  },
  {
   "cell_type": "code",
   "execution_count": null,
   "metadata": {},
   "outputs": [],
   "source": []
  },
  {
   "cell_type": "code",
   "execution_count": null,
   "metadata": {},
   "outputs": [],
   "source": []
  },
  {
   "cell_type": "code",
   "execution_count": null,
   "metadata": {},
   "outputs": [],
   "source": []
  },
  {
   "cell_type": "code",
   "execution_count": null,
   "metadata": {},
   "outputs": [],
   "source": []
  },
  {
   "cell_type": "code",
   "execution_count": null,
   "metadata": {},
   "outputs": [],
   "source": []
  }
 ],
 "metadata": {
  "kernelspec": {
   "display_name": "Python 3",
   "language": "python",
   "name": "python3"
  },
  "language_info": {
   "codemirror_mode": {
    "name": "ipython",
    "version": 3
   },
   "file_extension": ".py",
   "mimetype": "text/x-python",
   "name": "python",
   "nbconvert_exporter": "python",
   "pygments_lexer": "ipython3",
   "version": "3.7.6"
  }
 },
 "nbformat": 4,
 "nbformat_minor": 4
}
